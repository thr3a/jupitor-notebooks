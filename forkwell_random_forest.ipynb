{
 "cells": [
  {
   "cell_type": "code",
   "execution_count": 14,
   "metadata": {},
   "outputs": [
    {
     "data": {
      "text/plain": [
       "(584, 102)"
      ]
     },
     "execution_count": 14,
     "metadata": {},
     "output_type": "execute_result"
    }
   ],
   "source": [
    "import sklearn.datasets\n",
    "from sklearn.model_selection import train_test_split\n",
    "import pandas as pd\n",
    "data = pd.read_csv('data/forkwell.csv', sep=',', header=1)\n",
    "data.shape"
   ]
  },
  {
   "cell_type": "code",
   "execution_count": 17,
   "metadata": {},
   "outputs": [],
   "source": [
    "data_x = data.iloc[:, :101]\n",
    "data_y = data.iloc[:, 101:].values.flatten"
   ]
  },
  {
   "cell_type": "code",
   "execution_count": 18,
   "metadata": {},
   "outputs": [
    {
     "data": {
      "text/plain": [
       "array([4, 5, 4, 5, 4, 4, 4, 4, 4, 4, 3, 3, 5, 5, 4, 3, 3, 6, 4, 3, 4, 4, 5,\n",
       "       4, 3, 5, 6, 3, 4, 5, 4, 5, 4, 6, 5, 5, 4, 4, 6, 4, 3, 5, 5, 4, 3, 4,\n",
       "       4, 4, 4, 5, 3, 3, 4, 4, 3, 4, 4, 3, 4, 3, 4, 4, 5, 3, 4, 4, 5, 6, 5,\n",
       "       5, 4, 4, 4, 4, 4, 5, 4, 5, 4, 4, 4, 5, 3, 5, 4, 4, 5, 3, 4, 4, 4, 5,\n",
       "       4, 3, 3, 4, 4, 7, 3, 3, 4, 6, 4, 5, 4, 3, 5, 4, 5, 5, 4, 4, 4, 4, 3,\n",
       "       3, 4, 4, 3, 4, 4, 4, 5, 4, 5, 4, 4, 6, 3, 3, 5, 3, 5, 4, 6, 4, 4, 4,\n",
       "       5, 5, 6, 5, 5, 4, 5, 4, 4, 3, 4, 5, 6, 4, 4, 3, 4, 3, 4, 4, 6, 4, 3,\n",
       "       4, 6, 5, 4, 5, 5, 5, 4, 5, 5, 3, 3, 4, 4, 4, 5, 4, 4, 4, 3, 4, 6, 3,\n",
       "       4, 6, 4, 6, 4, 5, 4, 5, 3, 4, 4, 3, 4, 5, 4, 4, 4, 5, 4, 5, 4, 4, 4,\n",
       "       4, 4, 4, 3, 4, 3, 6, 5, 4, 4, 4, 6, 4, 6, 3, 4, 4, 6, 4, 4, 4, 4, 4,\n",
       "       4, 4, 4, 4, 3, 3, 5, 3, 4, 4, 3, 4, 4, 4, 4, 6, 4, 5, 4, 3, 3, 3, 4,\n",
       "       4, 4, 6, 3, 4, 3, 5, 6, 3, 4, 4, 8, 6, 4, 6, 3, 5, 6, 4, 5, 3, 3, 4,\n",
       "       4, 5, 4, 4, 4, 3, 4, 4, 4, 6, 4, 4, 4, 4, 5, 5, 5, 4, 4, 3, 3, 4, 4,\n",
       "       3, 3, 4, 5, 4, 4, 5, 4, 4, 6, 4, 5, 4, 3, 6, 4, 3, 4, 5, 3, 4, 5, 5,\n",
       "       4, 3, 6, 4, 4, 4, 5, 4, 4, 4, 4, 4, 4, 3, 4, 4, 5, 4, 4, 4, 5, 3, 4,\n",
       "       5, 3, 4, 5, 4, 3, 4, 5, 5, 4, 6, 4, 4, 3, 5, 4, 5, 7, 4, 4, 3, 3, 5,\n",
       "       5, 5, 5, 4, 5, 4, 5, 5, 4, 4, 4, 5, 5, 3, 4, 4, 5, 4, 6, 4, 4, 4, 4,\n",
       "       4, 4, 4, 4, 5, 4, 6, 3, 6, 7, 4, 5, 3, 4, 4, 8, 4, 4, 5, 4, 4, 4, 3,\n",
       "       4, 5, 4, 3, 5, 4, 4, 5, 4, 4, 3, 4, 4, 4, 3, 4, 4, 4, 4, 4, 4, 6, 6,\n",
       "       3, 4, 4, 4, 5, 5, 4, 4, 4, 4, 5, 4, 4, 5, 6, 4, 4, 5, 4, 6, 6, 5, 5,\n",
       "       4, 4, 4, 4, 3, 4, 5, 4, 5, 4, 3, 4, 3, 4, 4, 4, 4, 4, 5, 3, 4, 4, 3,\n",
       "       4, 4, 4, 4, 3, 6, 4, 4, 5, 6, 4, 4, 6, 4, 4, 3, 4, 4, 4, 4, 4, 4, 5,\n",
       "       4, 5, 4, 4, 5, 4, 4, 3, 4, 4, 4, 5, 4, 4, 4, 5, 5, 5, 4, 4, 4, 5, 3,\n",
       "       4, 6, 4, 4, 4, 6, 4, 4, 4, 4, 4, 3, 4, 5, 6, 4, 5, 3, 5, 5, 4, 4, 4,\n",
       "       3, 6, 3, 3, 4, 4, 4, 5, 5, 4, 5, 5, 3, 6, 4, 4, 4, 4, 5, 4, 4, 6, 3,\n",
       "       4, 4, 8, 8, 3, 3, 5, 6, 6])"
      ]
     },
     "execution_count": 18,
     "metadata": {},
     "output_type": "execute_result"
    }
   ],
   "source": [
    "data_y"
   ]
  },
  {
   "cell_type": "code",
   "execution_count": 19,
   "metadata": {},
   "outputs": [],
   "source": [
    "x_train, x_test, y_train, y_test = train_test_split(data_x, data_y, random_state=0)"
   ]
  },
  {
   "cell_type": "code",
   "execution_count": 22,
   "metadata": {},
   "outputs": [
    {
     "data": {
      "text/plain": [
       "(146, 101)"
      ]
     },
     "execution_count": 22,
     "metadata": {},
     "output_type": "execute_result"
    }
   ],
   "source": [
    "x_test.shape"
   ]
  },
  {
   "cell_type": "code",
   "execution_count": 26,
   "metadata": {},
   "outputs": [
    {
     "data": {
      "text/plain": [
       "RandomForestClassifier(bootstrap=True, class_weight=None, criterion='gini',\n",
       "            max_depth=None, max_features='auto', max_leaf_nodes=None,\n",
       "            min_impurity_decrease=0.0, min_impurity_split=None,\n",
       "            min_samples_leaf=1, min_samples_split=2,\n",
       "            min_weight_fraction_leaf=0.0, n_estimators=1000, n_jobs=1,\n",
       "            oob_score=False, random_state=0, verbose=0, warm_start=False)"
      ]
     },
     "execution_count": 26,
     "metadata": {},
     "output_type": "execute_result"
    }
   ],
   "source": [
    "from sklearn.ensemble import RandomForestClassifier\n",
    "estimate_num = 1000\n",
    "forest = RandomForestClassifier(random_state=0, n_estimators=estimate_num)\n",
    "forest.fit(x_train, y_train)"
   ]
  },
  {
   "cell_type": "code",
   "execution_count": 27,
   "metadata": {},
   "outputs": [
    {
     "data": {
      "text/plain": [
       "0.97716894977168944"
      ]
     },
     "execution_count": 27,
     "metadata": {},
     "output_type": "execute_result"
    }
   ],
   "source": [
    "forest.score(x_train, y_train)"
   ]
  },
  {
   "cell_type": "code",
   "execution_count": 29,
   "metadata": {},
   "outputs": [
    {
     "data": {
      "text/plain": [
       "0.91095890410958902"
      ]
     },
     "execution_count": 29,
     "metadata": {},
     "output_type": "execute_result"
    }
   ],
   "source": [
    "forest.score(x_test, y_test)"
   ]
  }
 ],
 "metadata": {
  "kernelspec": {
   "display_name": "Python 3",
   "language": "python",
   "name": "python3"
  },
  "language_info": {
   "codemirror_mode": {
    "name": "ipython",
    "version": 3
   },
   "file_extension": ".py",
   "mimetype": "text/x-python",
   "name": "python",
   "nbconvert_exporter": "python",
   "pygments_lexer": "ipython3",
   "version": "3.6.2"
  }
 },
 "nbformat": 4,
 "nbformat_minor": 2
}
